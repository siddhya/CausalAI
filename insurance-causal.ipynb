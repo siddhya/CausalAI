{
 "cells": [
  {
   "cell_type": "markdown",
   "metadata": {},
   "source": [
    "# Does smoking affect your hospital bills?\n",
    "\n",
    "Let us use the dataset from [Kaggle](https://www.kaggle.com/datasets/mirichoi0218/insurance) and [DoWhy](https://github.com/py-why/dowhy) library to find out.\n",
    "\n"
   ]
  },
  {
   "cell_type": "code",
   "execution_count": null,
   "metadata": {},
   "outputs": [],
   "source": [
    "from dowhy import CausalModel\n",
    "import dowhy.datasets\n",
    "import pandas as pd\n",
    "import statsmodels.api as sm\n",
    "import scipy\n",
    "import sklearn.model_selection\n",
    "import sklearn.linear_model\n",
    "import sklearn.metrics\n",
    "import sklearn.preprocessing\n",
    "\n",
    "df = pd.read_csv('insurance.csv')"
   ]
  },
  {
   "cell_type": "markdown",
   "metadata": {},
   "source": [
    "Let us first try some good old stats. We want to understand the correlation between a categorical variable (smoking) and a continuous variable (charges). We can try Point Biserial correction and Logistic Regression.\n",
    "\n",
    "This is a good explainer [An overview of correlation measures between categorical and continuous variables](https://medium.com/@outside2SDs/an-overview-of-correlation-measures-between-categorical-and-continuous-variables-4c7f85610365)"
   ]
  },
  {
   "cell_type": "code",
   "execution_count": null,
   "metadata": {},
   "outputs": [],
   "source": [
    "# Convert everything into either int64 or bool for ease of handling\n",
    "print(df.head())\n",
    "df['sex'] = pd.Categorical(df.sex).codes\n",
    "df['sex'] = df['sex'].astype('bool')\n",
    "df['bmi'] = df['bmi'].astype('int64')\n",
    "df['children'] = pd.Categorical(df.children).codes\n",
    "df['children'] = df['children'].astype('int64')\n",
    "df['smoker'] = pd.Categorical(df.smoker).codes\n",
    "df['smoker'] = df['smoker'].astype('bool')\n",
    "df['region'] = pd.Categorical(df.region).codes\n",
    "df['region'] = df['region'].astype('int64')\n",
    "df['charges'] = df['charges'].astype('int64')\n",
    "print(df.head())\n",
    "print(df.dtypes)\n",
    "for col in df:\n",
    "    print(f'col {col} values: ', df[col].unique())"
   ]
  },
  {
   "cell_type": "code",
   "execution_count": null,
   "metadata": {},
   "outputs": [],
   "source": [
    "pbc = scipy.stats.pointbiserialr(df['smoker'], df['charges'])\n",
    "print(pbc)\n",
    "\"\"\" \n",
    "PointbiserialrResult(correlation=0.7872508167061559, pvalue=8.285497517176015e-283)\n",
    "The result shows a strong correlation \"\"\""
   ]
  },
  {
   "cell_type": "code",
   "execution_count": null,
   "metadata": {},
   "outputs": [],
   "source": [
    "x = df.iloc[:, 6].values\n",
    "x = x.reshape(-1, 1)\n",
    "y = df.iloc[:, 4].values\n",
    "X_train, X_test, y_train, y_test = sklearn.model_selection.train_test_split(x, y, test_size = 0.25, random_state = 0)\n",
    "sc_x = sklearn.preprocessing.StandardScaler()\n",
    "X_train = sc_x.fit_transform(X_train)\n",
    "X_test = sc_x.transform(X_test)\n",
    "classifier = sklearn.linear_model.LogisticRegression(random_state = 0)\n",
    "classifier.fit(X_train, y_train)\n",
    "y_pred = classifier.predict(X_test)\n",
    "cm = sklearn.metrics.confusion_matrix(y_test, y_pred)\n",
    "\n",
    "print (\"Confusion Matrix : \\n\", cm)\n",
    "print (\"Accuracy : \", sklearn.metrics.accuracy_score(y_test, y_pred))\n",
    "\n",
    "\"\"\" \n",
    "Confusion Matrix : \n",
    "[[255   9]\n",
    "[ 20  51]]\n",
    "Accuracy :  0.9134328358208955\n",
    "The accuracy is even better than the point-biserial approach\n",
    " \"\"\""
   ]
  },
  {
   "cell_type": "code",
   "execution_count": null,
   "metadata": {},
   "outputs": [],
   "source": [
    "means = df.groupby('smoker')['charges'].mean()\n",
    "print(means)\n",
    "\n",
    "\"\"\" \n",
    "smoker\n",
    "False     8433.778195\n",
    "True     32049.726277\n",
    "Name: charges, dtype: float64\n",
    "The above correlations make sense as the mean charges more smokers seem to be much higher than no-smokers.\n",
    " \"\"\""
   ]
  },
  {
   "cell_type": "code",
   "execution_count": null,
   "metadata": {},
   "outputs": [],
   "source": [
    "# Build the model with some (debatable) assumptions\n",
    "model = CausalModel(\n",
    "    data=df,\n",
    "    treatment='smoker',\n",
    "    outcome='charges',\n",
    "    graph='digraph {age -> smoker;age -> bmi;region -> smoker;sex->smoker;smoker -> bmi;age -> charges;bmi -> charges;region -> charges;sex -> charges;smoker -> charges;}'\n",
    ")"
   ]
  },
  {
   "cell_type": "code",
   "execution_count": null,
   "metadata": {},
   "outputs": [],
   "source": [
    "model.view_model()\n",
    "from IPython.display import Image, display\n",
    "display(Image(filename=\"causal_model.png\"))"
   ]
  },
  {
   "cell_type": "markdown",
   "metadata": {},
   "source": [
    "## The causal relationships map\n",
    "\n",
    "![Causal Map](causal_model.png)"
   ]
  },
  {
   "cell_type": "code",
   "execution_count": null,
   "metadata": {},
   "outputs": [],
   "source": [
    "# Create the estimand\n",
    "identified_estimand = model.identify_effect(proceed_when_unidentifiable=True)\n",
    "print(identified_estimand)\n",
    "\n",
    "\"\"\"\n",
    "Estimand type: nonparametric-ate\n",
    "\n",
    "### Estimand : 1\n",
    "Estimand name: backdoor\n",
    "Estimand expression:\n",
    "    d                               \n",
    "─────────(E[charges|age,sex,region])\n",
    "d[smoker]                           \n",
    "Estimand assumption 1, Unconfoundedness: If U→{smoker} and U→charges then P(charges|smoker,age,sex,region,U) = P(charges|smoker,age,sex,region)\n",
    "\"\"\""
   ]
  },
  {
   "cell_type": "code",
   "execution_count": null,
   "metadata": {},
   "outputs": [],
   "source": [
    "# Estimate the effect\n",
    "causal_estimate = model.estimate_effect(identified_estimand,\n",
    "        #method_name=\"backdoor.distance_matching\",\n",
    "        method_name=\"backdoor.propensity_score_stratification\",\n",
    "        target_units=\"ate\")\n",
    "        #method_params={'distance_metric':\"minkowski\", 'p':2})\n",
    "print(causal_estimate)\n",
    "print(\"Causal Estimate is \" + str(causal_estimate.value))\n",
    "\n",
    "\"\"\" \n",
    "## Realized estimand\n",
    "b: charges~smoker+age+sex+region\n",
    "Target units: ate\n",
    "\n",
    "## Estimate\n",
    "Mean value: 24018.64839548832\n",
    "\n",
    "Causal Estimate is 24018.64839548832\n",
    " \"\"\""
   ]
  },
  {
   "cell_type": "code",
   "execution_count": null,
   "metadata": {},
   "outputs": [],
   "source": [
    "# Refute 1\n",
    "refute_estimate = model.refute_estimate(identified_estimand, causal_estimate,\n",
    "                                method_name=\"random_common_cause\")\n",
    "print(refute_estimate)\n",
    "\n",
    "\"\"\" \n",
    "Refute: Add a random common cause\n",
    "Estimated effect:24018.64839548832\n",
    "New effect:23870.33554814974\n",
    "p value:0.54\n",
    "The old and new effects are not very far off. So that's good. Not sure what the p value signifies here.\n",
    " \"\"\""
   ]
  },
  {
   "cell_type": "code",
   "execution_count": null,
   "metadata": {},
   "outputs": [],
   "source": [
    "#Refute 2\n",
    "refute_estimate = model.refute_estimate(identified_estimand, causal_estimate,\n",
    "                                method_name=\"placebo_treatment_refuter\")\n",
    "print(refute_estimate)\n",
    "\n",
    "\"\"\" \n",
    "Refute: Use a Placebo Treatment\n",
    "Estimated effect:24018.64839548832\n",
    "New effect:-150.88724240421027\n",
    "p value:0.76\n",
    "New effect are drastically lower. Which indicates that when the actual treatment is replace by a placebo\n",
    "no effect is observed on the treated variable. Which is good.\n",
    " \"\"\""
   ]
  },
  {
   "cell_type": "code",
   "execution_count": null,
   "metadata": {},
   "outputs": [],
   "source": [
    "# Refute 3\n",
    "refute_estimate = model.refute_estimate(identified_estimand, causal_estimate,\n",
    "                                method_name=\"data_subset_refuter\")\n",
    "print(refute_estimate)\n",
    "\n",
    "\"\"\" \n",
    "Refute: Use a subset of data\n",
    "Estimated effect:24018.64839548832\n",
    "New effect:23725.79863540047\n",
    "p value:0.52\n",
    "The old and new effects are not very far off. So that's good. Not sure what the p value signifies here.\n",
    " \"\"\""
   ]
  },
  {
   "cell_type": "markdown",
   "metadata": {},
   "source": [
    "Thus it looks like smoking does causally affect your hospital bills."
   ]
  }
 ],
 "metadata": {
  "kernelspec": {
   "display_name": "Python 3.8.2 64-bit",
   "language": "python",
   "name": "python3"
  },
  "language_info": {
   "codemirror_mode": {
    "name": "ipython",
    "version": 3
   },
   "file_extension": ".py",
   "mimetype": "text/x-python",
   "name": "python",
   "nbconvert_exporter": "python",
   "pygments_lexer": "ipython3",
   "version": "3.8.2"
  },
  "vscode": {
   "interpreter": {
    "hash": "916dbcbb3f70747c44a77c7bcd40155683ae19c65e1c03b4aa3499c5328201f1"
   }
  }
 },
 "nbformat": 4,
 "nbformat_minor": 2
}
